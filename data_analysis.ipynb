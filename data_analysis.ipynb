{
 "cells": [
  {
   "cell_type": "code",
   "execution_count": 62,
   "metadata": {},
   "outputs": [],
   "source": [
    "import time, ast, json, requests\n",
    "import xgboost\n",
    "import matplotlib.pyplot as plt\n",
    "import numpy as np\n",
    "import pandas as pd\n",
    "import seaborn as sns\n",
    "import statsmodels.api as sm\n",
    "import datetime\n",
    "from pprint import pprint\n",
    "from sklearn.linear_model import LogisticRegression\n",
    "from sklearn.feature_selection import RFE\n",
    "from sklearn.model_selection import train_test_split, RandomizedSearchCV\n",
    "from sklearn.ensemble import RandomForestClassifier, RandomForestRegressor\n",
    "from sklearn.metrics import accuracy_score, confusion_matrix, classification_report\n",
    "from sklearn import svm, tree\n",
    "# from sklearn.grid_search import GridSearchCV \n",
    "\n",
    "from scipy import stats\n",
    "\n",
    "sns.set(color_codes=True)"
   ]
  },
  {
   "cell_type": "code",
   "execution_count": 2,
   "metadata": {},
   "outputs": [],
   "source": [
    "import warnings\n",
    "warnings.filterwarnings('ignore')"
   ]
  },
  {
   "cell_type": "markdown",
   "metadata": {},
   "source": [
    "# Load TFT Game Data"
   ]
  },
  {
   "cell_type": "code",
   "execution_count": 3,
   "metadata": {},
   "outputs": [],
   "source": [
    "game_data = pd.read_csv('./tft_csv/complete_match_data.csv')\n",
    "match_ids = pd.read_csv('./tft_csv/match_ids.csv')\n",
    "player_data = pd.read_csv('./tft_csv/player_data.csv')"
   ]
  },
  {
   "cell_type": "code",
   "execution_count": 4,
   "metadata": {},
   "outputs": [],
   "source": [
    "game_data.drop('Unnamed: 0', axis=1, inplace=True)\n",
    "match_ids.drop('Unnamed: 0', axis=1, inplace=True)\n",
    "player_data.drop('Unnamed: 0', axis=1, inplace=True)"
   ]
  },
  {
   "cell_type": "markdown",
   "metadata": {},
   "source": [
    "# Load Extra TFT Data"
   ]
  },
  {
   "cell_type": "code",
   "execution_count": 5,
   "metadata": {},
   "outputs": [],
   "source": [
    "tft_items = None\n",
    "tft_traits = None\n",
    "tft_champs = None\n",
    "with open('./tft_extra_data/items.json') as json_file:\n",
    "    tft_items = json.load(json_file)\n",
    "\n",
    "with open('./tft_extra_data/traits.json') as json_file:\n",
    "    tft_traits = json.load(json_file)\n",
    "\n",
    "with open('./tft_extra_data/champions.json') as json_file:\n",
    "    tft_champs = json.load(json_file)\n",
    "    \n",
    "temp_items = {}\n",
    "for item in tft_items:\n",
    "    temp_items[item['id']] = {'name': item['name'],\n",
    "                              'tier': item['tier']\n",
    "                             }\n",
    "tft_items = temp_items\n",
    "\n",
    "temp_traits = {}\n",
    "for trait in tft_traits:\n",
    "    temp_traits[trait['name']] = {'tier': trait['tier']}\n",
    "    \n",
    "tft_traits = temp_traits\n",
    "tft_traits['Set2_Glacial'] = {'tier': 'B'}\n",
    "tft_traits['Set2_Assassin'] = {'tier': 'A'}\n",
    "tft_traits['Set2_Blademaster'] = {'tier': 'S'}\n",
    "tft_traits['Set2_Ranger'] = {'tier': 'A'}\n",
    "tft_traits['Metal'] = {'tier': 'A'}\n",
    "tft_traits['Wind'] = {'tier': 'B'}\n",
    "tft_traits['Soulbound'] = {'tier': 'A'}\n"
   ]
  },
  {
   "cell_type": "markdown",
   "metadata": {},
   "source": [
    "# Manipulate Data Columns into Features"
   ]
  },
  {
   "cell_type": "code",
   "execution_count": 6,
   "metadata": {},
   "outputs": [],
   "source": [
    "# Group Top/Bottom 4 Placements\n",
    "game_data['game_won'] = [1 if p <= 4 else 0 for p in game_data['placement']]"
   ]
  },
  {
   "cell_type": "markdown",
   "metadata": {},
   "source": [
    "### Champ + Tier Evaluation Attempt: #1"
   ]
  },
  {
   "cell_type": "code",
   "execution_count": 100,
   "metadata": {},
   "outputs": [],
   "source": [
    "# Champion Evaluation\n",
    "unit_powers = []\n",
    "for u in game_data['units']:\n",
    "    unit_lst = ast.literal_eval(u)\n",
    "    unit_power = 0\n",
    "    for unit in unit_lst:\n",
    "        name = unit[0]\n",
    "        rarity = unit[1]\n",
    "        char_tier = unit[2]\n",
    "        items = unit[3]\n",
    "        \n",
    "        item_power = 0\n",
    "        for item in items:\n",
    "            if item not in tft_items:\n",
    "                continue\n",
    "            item_data = tft_items[item]\n",
    "            # print(item_data['name'], item_data['tier'])\n",
    "            \n",
    "            if item_data['tier'] == 'S':\n",
    "                item_power += 3\n",
    "            elif item_data['tier'] == 'A':\n",
    "                item_power += 2\n",
    "            elif item_data['tier'] == 'B':\n",
    "                item_power += 1\n",
    "            elif item_data['tier'] == 'S-':\n",
    "                item_power += 2.5\n",
    "            elif item_data['tier'] == 'A-':\n",
    "                item_power += 1.5\n",
    "            elif item_data['tier'] == 'B-':\n",
    "                item_power += 0.5\n",
    "        # print(unit)\n",
    "        \n",
    "        unit_power += (1 + rarity) * char_tier + item_power\n",
    "    unit_powers.append(unit_power)\n",
    "\n",
    "game_data['team_unit_power'] = unit_powers"
   ]
  },
  {
   "cell_type": "code",
   "execution_count": 101,
   "metadata": {},
   "outputs": [],
   "source": [
    "# Class Evaluation\n",
    "class_powers = []\n",
    "for t in game_data['traits']:\n",
    "    traits_lst = ast.literal_eval(t)\n",
    "    class_bonus = 0\n",
    "\n",
    "    for trait in traits_lst:\n",
    "        #print(trait)\n",
    "        trait_name = trait[0]\n",
    "        trait_active_tier = trait[1]\n",
    "        trait_power = 0\n",
    "        \n",
    "        if tft_traits[trait_name]['tier'] == 'S':\n",
    "            trait_power += 3\n",
    "        elif tft_traits[trait_name]['tier'] == 'A':\n",
    "            trait_power += 2\n",
    "        elif tft_traits[trait_name]['tier'] == 'B':\n",
    "            trait_power += 1\n",
    "        elif tft_traits[trait_name]['tier'] == 'C':\n",
    "            trait_power += 0.5\n",
    "        \n",
    "        if trait_active_tier == 1:\n",
    "            active_tier_multiplier = 0.4\n",
    "        else:\n",
    "            active_tier_multiplier = trait_active_tier/10\n",
    "        \n",
    "        class_bonus += trait_power * (1 + active_tier_multiplier)\n",
    "        \n",
    "    class_powers.append(class_bonus)\n",
    "game_data['class_powers'] = class_powers"
   ]
  },
  {
   "cell_type": "markdown",
   "metadata": {},
   "source": [
    "# Split Data for Test/Train"
   ]
  },
  {
   "cell_type": "code",
   "execution_count": 9,
   "metadata": {
    "scrolled": true
   },
   "outputs": [
    {
     "data": {
      "text/html": [
       "<div>\n",
       "<style scoped>\n",
       "    .dataframe tbody tr th:only-of-type {\n",
       "        vertical-align: middle;\n",
       "    }\n",
       "\n",
       "    .dataframe tbody tr th {\n",
       "        vertical-align: top;\n",
       "    }\n",
       "\n",
       "    .dataframe thead th {\n",
       "        text-align: right;\n",
       "    }\n",
       "</style>\n",
       "<table border=\"1\" class=\"dataframe\">\n",
       "  <thead>\n",
       "    <tr style=\"text-align: right;\">\n",
       "      <th></th>\n",
       "      <th>puuid</th>\n",
       "      <th>match_id</th>\n",
       "      <th>game_length</th>\n",
       "      <th>gold_left</th>\n",
       "      <th>last_round</th>\n",
       "      <th>level</th>\n",
       "      <th>placement</th>\n",
       "      <th>players_eliminated</th>\n",
       "      <th>time_eliminated</th>\n",
       "      <th>total_damage_to_players</th>\n",
       "      <th>traits</th>\n",
       "      <th>units</th>\n",
       "      <th>game_won</th>\n",
       "      <th>team_unit_power</th>\n",
       "      <th>class_powers</th>\n",
       "    </tr>\n",
       "  </thead>\n",
       "  <tbody>\n",
       "    <tr>\n",
       "      <th>0</th>\n",
       "      <td>HbYsPpRS3X2RaQ8n5Sm9n2gKU80f927PzBk_krw4kdyRG6...</td>\n",
       "      <td>NA1_3249805878</td>\n",
       "      <td>1959.947266</td>\n",
       "      <td>5</td>\n",
       "      <td>31</td>\n",
       "      <td>8</td>\n",
       "      <td>4</td>\n",
       "      <td>0</td>\n",
       "      <td>1714.102783</td>\n",
       "      <td>95</td>\n",
       "      <td>[('Berserker', 2), ('Desert', 0), ('Electric',...</td>\n",
       "      <td>[('Renekton', 0, 2, []), ('DrMundo', 2, 2, [])...</td>\n",
       "      <td>1</td>\n",
       "      <td>52</td>\n",
       "      <td>16.6</td>\n",
       "    </tr>\n",
       "    <tr>\n",
       "      <th>1</th>\n",
       "      <td>OkaQSLZuy-FUjgfc_a770gWAvOtn5WLYcBN7toyVLJsc1d...</td>\n",
       "      <td>NA1_3249805878</td>\n",
       "      <td>1959.947266</td>\n",
       "      <td>0</td>\n",
       "      <td>35</td>\n",
       "      <td>9</td>\n",
       "      <td>2</td>\n",
       "      <td>3</td>\n",
       "      <td>1951.685059</td>\n",
       "      <td>146</td>\n",
       "      <td>[('Avatar', 1), ('Electric', 3), ('Inferno', 1...</td>\n",
       "      <td>[('Annie', 3, 2, []), ('Zed', 4, 2, [24, 66, 1...</td>\n",
       "      <td>1</td>\n",
       "      <td>91</td>\n",
       "      <td>26.0</td>\n",
       "    </tr>\n",
       "    <tr>\n",
       "      <th>2</th>\n",
       "      <td>HGeDGOQrklxGiScizUCLq_BVn5gTYBy-DldOuy38XcaKap...</td>\n",
       "      <td>NA1_3249805878</td>\n",
       "      <td>1959.947266</td>\n",
       "      <td>0</td>\n",
       "      <td>31</td>\n",
       "      <td>7</td>\n",
       "      <td>5</td>\n",
       "      <td>0</td>\n",
       "      <td>1711.923218</td>\n",
       "      <td>72</td>\n",
       "      <td>[('Berserker', 0), ('Desert', 2), ('Inferno', ...</td>\n",
       "      <td>[('Nocturne', 2, 2, [19, 19, 23]), ('Sivir', 2...</td>\n",
       "      <td>0</td>\n",
       "      <td>52</td>\n",
       "      <td>14.8</td>\n",
       "    </tr>\n",
       "    <tr>\n",
       "      <th>3</th>\n",
       "      <td>VyCpwiJ3MifHEREwjj0cSAXHQIjFGd7UtWMBG9ZvCdlGso...</td>\n",
       "      <td>NA1_3249805878</td>\n",
       "      <td>1959.947266</td>\n",
       "      <td>30</td>\n",
       "      <td>26</td>\n",
       "      <td>7</td>\n",
       "      <td>7</td>\n",
       "      <td>0</td>\n",
       "      <td>1445.723633</td>\n",
       "      <td>55</td>\n",
       "      <td>[('Inferno', 1), ('Light', 0), ('Mountain', 0)...</td>\n",
       "      <td>[('Kindred', 2, 2, [44, 22, 39]), ('Malzahar',...</td>\n",
       "      <td>0</td>\n",
       "      <td>57</td>\n",
       "      <td>20.8</td>\n",
       "    </tr>\n",
       "    <tr>\n",
       "      <th>4</th>\n",
       "      <td>UsiShYgxH3X5_pNeJjE-EpBhbR4vevorLcs83aI8ZSQFaZ...</td>\n",
       "      <td>NA1_3249805878</td>\n",
       "      <td>1959.947266</td>\n",
       "      <td>4</td>\n",
       "      <td>33</td>\n",
       "      <td>8</td>\n",
       "      <td>3</td>\n",
       "      <td>0</td>\n",
       "      <td>1819.271362</td>\n",
       "      <td>129</td>\n",
       "      <td>[('Avatar', 1), ('Desert', 1), ('Inferno', 0),...</td>\n",
       "      <td>[('Yasuo', 1, 2, []), ('Sivir', 2, 2, [25, 46,...</td>\n",
       "      <td>1</td>\n",
       "      <td>73</td>\n",
       "      <td>23.0</td>\n",
       "    </tr>\n",
       "    <tr>\n",
       "      <th>5</th>\n",
       "      <td>BXPswgAxjGfAfQHvaF-m7CtUdbBvZQhcviLqZwZDyDZbDn...</td>\n",
       "      <td>NA1_3249805878</td>\n",
       "      <td>1959.947266</td>\n",
       "      <td>50</td>\n",
       "      <td>28</td>\n",
       "      <td>8</td>\n",
       "      <td>6</td>\n",
       "      <td>0</td>\n",
       "      <td>1567.998779</td>\n",
       "      <td>80</td>\n",
       "      <td>[('Inferno', 1), ('Light', 0), ('Mage', 0), ('...</td>\n",
       "      <td>[('Nami', 4, 1, [25, 57]), ('Thresh', 1, 2, [6...</td>\n",
       "      <td>0</td>\n",
       "      <td>61</td>\n",
       "      <td>22.4</td>\n",
       "    </tr>\n",
       "    <tr>\n",
       "      <th>6</th>\n",
       "      <td>zqelCdkKSSNGoCJA9msW7sP-wmzIW0HPG8b8ElUMwLCIMl...</td>\n",
       "      <td>NA1_3249805878</td>\n",
       "      <td>1959.947266</td>\n",
       "      <td>8</td>\n",
       "      <td>24</td>\n",
       "      <td>7</td>\n",
       "      <td>8</td>\n",
       "      <td>0</td>\n",
       "      <td>1324.369019</td>\n",
       "      <td>31</td>\n",
       "      <td>[('Desert', 1), ('Inferno', 0), ('Light', 0), ...</td>\n",
       "      <td>[('Aatrox', 2, 2, []), ('Nocturne', 2, 2, [19,...</td>\n",
       "      <td>0</td>\n",
       "      <td>48</td>\n",
       "      <td>13.6</td>\n",
       "    </tr>\n",
       "    <tr>\n",
       "      <th>7</th>\n",
       "      <td>BXZMHIfauv8M3BuaqO6wZnxQXrN2flWKj1GhJ6nNQeP3DD...</td>\n",
       "      <td>NA1_3249805878</td>\n",
       "      <td>1959.947266</td>\n",
       "      <td>1</td>\n",
       "      <td>35</td>\n",
       "      <td>9</td>\n",
       "      <td>1</td>\n",
       "      <td>4</td>\n",
       "      <td>1951.685059</td>\n",
       "      <td>176</td>\n",
       "      <td>[('Avatar', 1), ('Crystal', 0), ('Electric', 0...</td>\n",
       "      <td>[('Malphite', 3, 2, []), ('Lux', 5, 1, []), ('...</td>\n",
       "      <td>1</td>\n",
       "      <td>89</td>\n",
       "      <td>31.4</td>\n",
       "    </tr>\n",
       "  </tbody>\n",
       "</table>\n",
       "</div>"
      ],
      "text/plain": [
       "                                               puuid        match_id  \\\n",
       "0  HbYsPpRS3X2RaQ8n5Sm9n2gKU80f927PzBk_krw4kdyRG6...  NA1_3249805878   \n",
       "1  OkaQSLZuy-FUjgfc_a770gWAvOtn5WLYcBN7toyVLJsc1d...  NA1_3249805878   \n",
       "2  HGeDGOQrklxGiScizUCLq_BVn5gTYBy-DldOuy38XcaKap...  NA1_3249805878   \n",
       "3  VyCpwiJ3MifHEREwjj0cSAXHQIjFGd7UtWMBG9ZvCdlGso...  NA1_3249805878   \n",
       "4  UsiShYgxH3X5_pNeJjE-EpBhbR4vevorLcs83aI8ZSQFaZ...  NA1_3249805878   \n",
       "5  BXPswgAxjGfAfQHvaF-m7CtUdbBvZQhcviLqZwZDyDZbDn...  NA1_3249805878   \n",
       "6  zqelCdkKSSNGoCJA9msW7sP-wmzIW0HPG8b8ElUMwLCIMl...  NA1_3249805878   \n",
       "7  BXZMHIfauv8M3BuaqO6wZnxQXrN2flWKj1GhJ6nNQeP3DD...  NA1_3249805878   \n",
       "\n",
       "   game_length  gold_left  last_round  level  placement  players_eliminated  \\\n",
       "0  1959.947266          5          31      8          4                   0   \n",
       "1  1959.947266          0          35      9          2                   3   \n",
       "2  1959.947266          0          31      7          5                   0   \n",
       "3  1959.947266         30          26      7          7                   0   \n",
       "4  1959.947266          4          33      8          3                   0   \n",
       "5  1959.947266         50          28      8          6                   0   \n",
       "6  1959.947266          8          24      7          8                   0   \n",
       "7  1959.947266          1          35      9          1                   4   \n",
       "\n",
       "   time_eliminated  total_damage_to_players  \\\n",
       "0      1714.102783                       95   \n",
       "1      1951.685059                      146   \n",
       "2      1711.923218                       72   \n",
       "3      1445.723633                       55   \n",
       "4      1819.271362                      129   \n",
       "5      1567.998779                       80   \n",
       "6      1324.369019                       31   \n",
       "7      1951.685059                      176   \n",
       "\n",
       "                                              traits  \\\n",
       "0  [('Berserker', 2), ('Desert', 0), ('Electric',...   \n",
       "1  [('Avatar', 1), ('Electric', 3), ('Inferno', 1...   \n",
       "2  [('Berserker', 0), ('Desert', 2), ('Inferno', ...   \n",
       "3  [('Inferno', 1), ('Light', 0), ('Mountain', 0)...   \n",
       "4  [('Avatar', 1), ('Desert', 1), ('Inferno', 0),...   \n",
       "5  [('Inferno', 1), ('Light', 0), ('Mage', 0), ('...   \n",
       "6  [('Desert', 1), ('Inferno', 0), ('Light', 0), ...   \n",
       "7  [('Avatar', 1), ('Crystal', 0), ('Electric', 0...   \n",
       "\n",
       "                                               units  game_won  \\\n",
       "0  [('Renekton', 0, 2, []), ('DrMundo', 2, 2, [])...         1   \n",
       "1  [('Annie', 3, 2, []), ('Zed', 4, 2, [24, 66, 1...         1   \n",
       "2  [('Nocturne', 2, 2, [19, 19, 23]), ('Sivir', 2...         0   \n",
       "3  [('Kindred', 2, 2, [44, 22, 39]), ('Malzahar',...         0   \n",
       "4  [('Yasuo', 1, 2, []), ('Sivir', 2, 2, [25, 46,...         1   \n",
       "5  [('Nami', 4, 1, [25, 57]), ('Thresh', 1, 2, [6...         0   \n",
       "6  [('Aatrox', 2, 2, []), ('Nocturne', 2, 2, [19,...         0   \n",
       "7  [('Malphite', 3, 2, []), ('Lux', 5, 1, []), ('...         1   \n",
       "\n",
       "   team_unit_power  class_powers  \n",
       "0               52          16.6  \n",
       "1               91          26.0  \n",
       "2               52          14.8  \n",
       "3               57          20.8  \n",
       "4               73          23.0  \n",
       "5               61          22.4  \n",
       "6               48          13.6  \n",
       "7               89          31.4  "
      ]
     },
     "execution_count": 9,
     "metadata": {},
     "output_type": "execute_result"
    }
   ],
   "source": [
    "game_data.head(8)"
   ]
  },
  {
   "cell_type": "code",
   "execution_count": 102,
   "metadata": {},
   "outputs": [],
   "source": [
    "# feature_columns = ['gold_left', 'level','players_eliminated', 'total_damage_to_players']\n",
    "feature_columns = ['team_unit_power',\n",
    "                   'class_powers',\n",
    "                   'players_eliminated',\n",
    "                   'total_damage_to_players',\n",
    "#                    'gold_left',\n",
    "#                    'level'\n",
    "                  ]\n",
    "X = game_data[feature_columns]\n",
    "y = game_data['game_won']\n",
    "X_train, X_test, y_train, y_test = train_test_split(X, y, test_size=0.3, shuffle=True)"
   ]
  },
  {
   "cell_type": "markdown",
   "metadata": {},
   "source": [
    "### Logistic Regression"
   ]
  },
  {
   "cell_type": "code",
   "execution_count": 103,
   "metadata": {},
   "outputs": [
    {
     "name": "stdout",
     "output_type": "stream",
     "text": [
      "[ True  True  True  True]\n",
      "[1 1 1 1]\n"
     ]
    }
   ],
   "source": [
    "# Feature Elimination\n",
    "logreg = LogisticRegression()\n",
    "rfe = RFE(logreg, 20)\n",
    "rfe = rfe.fit(X_train, y_train)\n",
    "print(rfe.support_)\n",
    "print(rfe.ranking_)"
   ]
  },
  {
   "cell_type": "code",
   "execution_count": 104,
   "metadata": {},
   "outputs": [
    {
     "name": "stdout",
     "output_type": "stream",
     "text": [
      "Optimization terminated successfully.\n",
      "         Current function value: 0.325575\n",
      "         Iterations 8\n",
      "                             Results: Logit\n",
      "========================================================================\n",
      "Model:                 Logit              Pseudo R-squared:   0.530     \n",
      "Dependent Variable:    game_won           AIC:                10509.7574\n",
      "Date:                  2020-01-04 13:26   BIC:                10540.5106\n",
      "No. Observations:      16128              Log-Likelihood:     -5250.9   \n",
      "Df Model:              3                  LL-Null:            -11179.   \n",
      "Df Residuals:          16124              LLR p-value:        0.0000    \n",
      "Converged:             1.0000             Scale:              1.0000    \n",
      "No. Iterations:        8.0000                                           \n",
      "------------------------------------------------------------------------\n",
      "                         Coef.  Std.Err.    z     P>|z|   [0.025  0.975]\n",
      "------------------------------------------------------------------------\n",
      "team_unit_power         -0.0838   0.0031 -27.1395 0.0000 -0.0899 -0.0778\n",
      "class_powers            -0.0964   0.0064 -15.1346 0.0000 -0.1089 -0.0839\n",
      "players_eliminated       1.0487   0.0438  23.9573 0.0000  0.9629  1.1344\n",
      "total_damage_to_players  0.0715   0.0014  50.9089 0.0000  0.0688  0.0743\n",
      "========================================================================\n",
      "\n"
     ]
    }
   ],
   "source": [
    "logit_model=sm.Logit(y,X)\n",
    "result=logit_model.fit()\n",
    "print(result.summary2())"
   ]
  },
  {
   "cell_type": "code",
   "execution_count": 105,
   "metadata": {},
   "outputs": [
    {
     "name": "stdout",
     "output_type": "stream",
     "text": [
      "Accuracy of logistic regression classifier on test set: 0.89\n"
     ]
    }
   ],
   "source": [
    "logreg = LogisticRegression()\n",
    "logreg.fit(X_train, y_train)\n",
    "y_pred = logreg.predict(X_test)\n",
    "print('Accuracy of logistic regression classifier on test set: {:.2f}'.format(logreg.score(X_test, y_test)))\n"
   ]
  },
  {
   "cell_type": "code",
   "execution_count": 106,
   "metadata": {},
   "outputs": [
    {
     "name": "stdout",
     "output_type": "stream",
     "text": [
      "              precision    recall  f1-score   support\n",
      "\n",
      "           0       0.88      0.91      0.89      2374\n",
      "           1       0.91      0.88      0.90      2465\n",
      "\n",
      "    accuracy                           0.89      4839\n",
      "   macro avg       0.89      0.90      0.89      4839\n",
      "weighted avg       0.90      0.89      0.89      4839\n",
      "\n"
     ]
    }
   ],
   "source": [
    "print(classification_report(y_test, y_pred))"
   ]
  },
  {
   "cell_type": "markdown",
   "metadata": {},
   "source": [
    "### Decision Tree"
   ]
  },
  {
   "cell_type": "code",
   "execution_count": 107,
   "metadata": {},
   "outputs": [
    {
     "name": "stdout",
     "output_type": "stream",
     "text": [
      "Accuracy of DecisionTreeClassifier(class_weight=None, criterion='gini', max_depth=None,\n",
      "                       max_features=None, max_leaf_nodes=None,\n",
      "                       min_impurity_decrease=0.0, min_impurity_split=None,\n",
      "                       min_samples_leaf=1, min_samples_split=2,\n",
      "                       min_weight_fraction_leaf=0.0, presort=False,\n",
      "                       random_state=None, splitter='best') is 0.9266377350692292\n"
     ]
    }
   ],
   "source": [
    "model_dt = tree.DecisionTreeClassifier()\n",
    "model_dt.fit(X_train, y_train)\n",
    "y_pred= model_dt.predict(X_test)\n",
    "\n",
    "acc = accuracy_score(y_test, y_pred)\n",
    "print(\"Accuracy of %s is %s\"%(model_dt, acc))\n"
   ]
  },
  {
   "cell_type": "code",
   "execution_count": 108,
   "metadata": {},
   "outputs": [
    {
     "data": {
      "text/plain": [
       "total_damage_to_players    0.755999\n",
       "class_powers               0.131397\n",
       "team_unit_power            0.093343\n",
       "players_eliminated         0.019261\n",
       "dtype: float64"
      ]
     },
     "execution_count": 108,
     "metadata": {},
     "output_type": "execute_result"
    }
   ],
   "source": [
    "pd.Series(model_dt.feature_importances_,index=feature_columns).sort_values(ascending=False)"
   ]
  },
  {
   "cell_type": "markdown",
   "metadata": {},
   "source": [
    "### Random Forest"
   ]
  },
  {
   "cell_type": "code",
   "execution_count": 109,
   "metadata": {},
   "outputs": [
    {
     "name": "stdout",
     "output_type": "stream",
     "text": [
      "Accuracy of RandomForestClassifier(bootstrap=True, class_weight=None, criterion='gini',\n",
      "                       max_depth=None, max_features='auto', max_leaf_nodes=None,\n",
      "                       min_impurity_decrease=0.0, min_impurity_split=None,\n",
      "                       min_samples_leaf=1, min_samples_split=2,\n",
      "                       min_weight_fraction_leaf=0.0, n_estimators=200,\n",
      "                       n_jobs=None, oob_score=False, random_state=None,\n",
      "                       verbose=0, warm_start=False) is 0.943170076462079\n"
     ]
    }
   ],
   "source": [
    "model_rfc = RandomForestClassifier(n_estimators=200)\n",
    "model_rfc.fit(X_train, y_train)\n",
    "y_pred= model_rfc.predict(X_test)\n",
    "\n",
    "acc = accuracy_score(y_test, y_pred)\n",
    "print(\"Accuracy of %s is %s\"%(model_rfc, acc))"
   ]
  },
  {
   "cell_type": "code",
   "execution_count": 110,
   "metadata": {},
   "outputs": [
    {
     "data": {
      "text/plain": [
       "total_damage_to_players    0.556631\n",
       "team_unit_power            0.208219\n",
       "class_powers               0.128198\n",
       "players_eliminated         0.106952\n",
       "dtype: float64"
      ]
     },
     "execution_count": 110,
     "metadata": {},
     "output_type": "execute_result"
    }
   ],
   "source": [
    "rf_feature_importance = pd.Series(model_rfc.feature_importances_,index=feature_columns).sort_values(ascending=False)\n",
    "rf_feature_importance"
   ]
  },
  {
   "cell_type": "markdown",
   "metadata": {},
   "source": [
    "#### Random Forest Paramter Tuning"
   ]
  },
  {
   "cell_type": "code",
   "execution_count": 61,
   "metadata": {},
   "outputs": [
    {
     "name": "stdout",
     "output_type": "stream",
     "text": [
      "Parameters currently in use:\n",
      "\n",
      "{'bootstrap': True,\n",
      " 'criterion': 'mse',\n",
      " 'max_depth': None,\n",
      " 'max_features': 'auto',\n",
      " 'max_leaf_nodes': None,\n",
      " 'min_impurity_decrease': 0.0,\n",
      " 'min_impurity_split': None,\n",
      " 'min_samples_leaf': 1,\n",
      " 'min_samples_split': 2,\n",
      " 'min_weight_fraction_leaf': 0.0,\n",
      " 'n_estimators': 'warn',\n",
      " 'n_jobs': None,\n",
      " 'oob_score': False,\n",
      " 'random_state': 420,\n",
      " 'verbose': 0,\n",
      " 'warm_start': False}\n"
     ]
    }
   ],
   "source": [
    "rf = RandomForestRegressor(random_state=420)\n",
    "print('Parameters currently in use:\\n')\n",
    "pprint(rf.get_params())"
   ]
  },
  {
   "cell_type": "code",
   "execution_count": 63,
   "metadata": {},
   "outputs": [
    {
     "name": "stdout",
     "output_type": "stream",
     "text": [
      "{'bootstrap': [True, False],\n",
      " 'max_depth': [10, 20, 30, 40, 50, 60, 70, 80, 90, 100, 110, None],\n",
      " 'max_features': ['auto', 'sqrt'],\n",
      " 'min_samples_leaf': [1, 2, 4],\n",
      " 'min_samples_split': [2, 5, 10],\n",
      " 'n_estimators': [200, 400, 600, 800, 1000, 1200, 1400, 1600, 1800, 2000]}\n"
     ]
    }
   ],
   "source": [
    "# Number of trees in random forest\n",
    "n_estimators = [int(x) for x in np.linspace(start = 200, stop = 2000, num = 10)]\n",
    "\n",
    "# Number of features to consider at every split\n",
    "max_features = ['auto', 'sqrt']\n",
    "\n",
    "# Maximum number of levels in tree\n",
    "max_depth = [int(x) for x in np.linspace(10, 110, num = 11)]\n",
    "max_depth.append(None)\n",
    "\n",
    "# Minimum number of samples required to split a node\n",
    "min_samples_split = [2, 5, 10]\n",
    "\n",
    "# Minimum number of samples required at each leaf node\n",
    "min_samples_leaf = [1, 2, 4]\n",
    "\n",
    "# Method of selecting samples for training each tree\n",
    "bootstrap = [True, False]\n",
    "\n",
    "# Create the random grid\n",
    "random_grid = {'n_estimators': n_estimators,\n",
    "               'max_features': max_features,\n",
    "               'max_depth': max_depth,\n",
    "               'min_samples_split': min_samples_split,\n",
    "               'min_samples_leaf': min_samples_leaf,\n",
    "               'bootstrap': bootstrap\n",
    "              }\n",
    "pprint(random_grid)"
   ]
  },
  {
   "cell_type": "code",
   "execution_count": 65,
   "metadata": {},
   "outputs": [
    {
     "name": "stdout",
     "output_type": "stream",
     "text": [
      "Fitting 3 folds for each of 100 candidates, totalling 300 fits\n"
     ]
    },
    {
     "name": "stderr",
     "output_type": "stream",
     "text": [
      "[Parallel(n_jobs=-1)]: Using backend LokyBackend with 4 concurrent workers.\n",
      "[Parallel(n_jobs=-1)]: Done  33 tasks      | elapsed:  1.4min\n",
      "[Parallel(n_jobs=-1)]: Done 154 tasks      | elapsed:  6.0min\n",
      "[Parallel(n_jobs=-1)]: Done 300 out of 300 | elapsed: 11.0min finished\n"
     ]
    },
    {
     "data": {
      "text/plain": [
       "RandomizedSearchCV(cv=3, error_score='raise-deprecating',\n",
       "                   estimator=RandomForestRegressor(bootstrap=True,\n",
       "                                                   criterion='mse',\n",
       "                                                   max_depth=None,\n",
       "                                                   max_features='auto',\n",
       "                                                   max_leaf_nodes=None,\n",
       "                                                   min_impurity_decrease=0.0,\n",
       "                                                   min_impurity_split=None,\n",
       "                                                   min_samples_leaf=1,\n",
       "                                                   min_samples_split=2,\n",
       "                                                   min_weight_fraction_leaf=0.0,\n",
       "                                                   n_estimators='warn',\n",
       "                                                   n_jobs=None, oob_score=False,\n",
       "                                                   random_sta...\n",
       "                   param_distributions={'bootstrap': [True, False],\n",
       "                                        'max_depth': [10, 20, 30, 40, 50, 60,\n",
       "                                                      70, 80, 90, 100, 110,\n",
       "                                                      None],\n",
       "                                        'max_features': ['auto', 'sqrt'],\n",
       "                                        'min_samples_leaf': [1, 2, 4],\n",
       "                                        'min_samples_split': [2, 5, 10],\n",
       "                                        'n_estimators': [200, 400, 600, 800,\n",
       "                                                         1000, 1200, 1400, 1600,\n",
       "                                                         1800, 2000]},\n",
       "                   pre_dispatch='2*n_jobs', random_state=420, refit=True,\n",
       "                   return_train_score=False, scoring=None, verbose=2)"
      ]
     },
     "execution_count": 65,
     "metadata": {},
     "output_type": "execute_result"
    }
   ],
   "source": [
    "rf = RandomForestRegressor()\n",
    "rf_random = RandomizedSearchCV(estimator=rf, \n",
    "                               param_distributions=random_grid, \n",
    "                               n_iter=100, \n",
    "                               cv=3, \n",
    "                               verbose=2, \n",
    "                               random_state=420, \n",
    "                               n_jobs=-1)\n",
    "rf_random.fit(X_train, y_train)"
   ]
  },
  {
   "cell_type": "code",
   "execution_count": 66,
   "metadata": {},
   "outputs": [
    {
     "name": "stdout",
     "output_type": "stream",
     "text": [
      "{'bootstrap': True,\n",
      " 'max_depth': 90,\n",
      " 'max_features': 'sqrt',\n",
      " 'min_samples_leaf': 1,\n",
      " 'min_samples_split': 2,\n",
      " 'n_estimators': 1800}\n"
     ]
    }
   ],
   "source": [
    "pprint(rf_random.best_params_)"
   ]
  },
  {
   "cell_type": "code",
   "execution_count": 111,
   "metadata": {
    "scrolled": true
   },
   "outputs": [
    {
     "name": "stdout",
     "output_type": "stream",
     "text": [
      "Accuracy of RandomForestClassifier(bootstrap=True, class_weight=None, criterion='gini',\n",
      "                       max_depth=90, max_features='sqrt', max_leaf_nodes=None,\n",
      "                       min_impurity_decrease=0.0, min_impurity_split=None,\n",
      "                       min_samples_leaf=1, min_samples_split=2,\n",
      "                       min_weight_fraction_leaf=0.0, n_estimators=1800,\n",
      "                       n_jobs=None, oob_score=False, random_state=None,\n",
      "                       verbose=0, warm_start=False) is 0.9433767307294896\n"
     ]
    }
   ],
   "source": [
    "model_rfc_tuned = RandomForestClassifier(n_estimators=1800, \n",
    "                                   bootstrap=True, \n",
    "                                   max_depth=90,\n",
    "                                   max_features='sqrt',\n",
    "                                   min_samples_leaf=1,\n",
    "                                   min_samples_split=2\n",
    "                                  )\n",
    "model_rfc_tuned.fit(X_train, y_train)\n",
    "y_pred= model_rfc_tuned.predict(X_test)\n",
    "\n",
    "acc = accuracy_score(y_test, y_pred)\n",
    "print(\"Accuracy of %s is %s\"%(model_rfc_tuned, acc))"
   ]
  },
  {
   "cell_type": "code",
   "execution_count": 112,
   "metadata": {},
   "outputs": [
    {
     "data": {
      "text/plain": [
       "total_damage_to_players    0.527788\n",
       "team_unit_power            0.242971\n",
       "class_powers               0.128201\n",
       "players_eliminated         0.101040\n",
       "dtype: float64"
      ]
     },
     "execution_count": 112,
     "metadata": {},
     "output_type": "execute_result"
    }
   ],
   "source": [
    "rf_tuned_feature_importance = pd.Series(model_rfc_tuned.feature_importances_,index=feature_columns).sort_values(ascending=False)\n",
    "rf_tuned_feature_importance"
   ]
  },
  {
   "cell_type": "code",
   "execution_count": 99,
   "metadata": {},
   "outputs": [
    {
     "name": "stdout",
     "output_type": "stream",
     "text": [
      "Confusion Matrix of RandomForestClassifier(bootstrap=True, class_weight=None, criterion='gini',\n",
      "                       max_depth=90, max_features='sqrt', max_leaf_nodes=None,\n",
      "                       min_impurity_decrease=0.0, min_impurity_split=None,\n",
      "                       min_samples_leaf=1, min_samples_split=2,\n",
      "                       min_weight_fraction_leaf=0.0, n_estimators=1800,\n",
      "                       n_jobs=None, oob_score=False, random_state=None,\n",
      "                       verbose=0, warm_start=False) is \n",
      "[[2274  134]\n",
      " [ 168 2263]]\n"
     ]
    }
   ],
   "source": [
    "cm = confusion_matrix(y_test, y_pred)\n",
    "print(\"Confusion Matrix of %s is \\n%s\"%(model_rfc_tuned, cm))"
   ]
  },
  {
   "cell_type": "markdown",
   "metadata": {},
   "source": [
    "### SVM"
   ]
  },
  {
   "cell_type": "code",
   "execution_count": 113,
   "metadata": {},
   "outputs": [
    {
     "name": "stdout",
     "output_type": "stream",
     "text": [
      "Accuracy of SVC(C=1.0, cache_size=200, class_weight=None, coef0=0.0,\n",
      "    decision_function_shape='ovr', degree=3, gamma='auto_deprecated',\n",
      "    kernel='linear', max_iter=-1, probability=False, random_state=None,\n",
      "    shrinking=True, tol=0.001, verbose=False) is 0.8941930150857615\n"
     ]
    }
   ],
   "source": [
    "# SVM\n",
    "model_svm = svm.SVC(kernel='linear') # linear, rbf, sigmoid, polynomial\n",
    "model_svm.fit(X_train, y_train)\n",
    "y_pred = model_svm.predict(X_test)\n",
    "acc = accuracy_score(y_test, y_pred)\n",
    "print(\"Accuracy of %s is %s\"%(model_svm, acc))\n"
   ]
  },
  {
   "cell_type": "code",
   "execution_count": 114,
   "metadata": {},
   "outputs": [
    {
     "data": {
      "text/plain": [
       "(array([[ 0.0466912 , -0.00845251,  0.52245431,  0.05154237]]),\n",
       " ['team_unit_power',\n",
       "  'class_powers',\n",
       "  'players_eliminated',\n",
       "  'total_damage_to_players'])"
      ]
     },
     "execution_count": 114,
     "metadata": {},
     "output_type": "execute_result"
    }
   ],
   "source": [
    "model_svm.coef_, feature_columns"
   ]
  },
  {
   "cell_type": "markdown",
   "metadata": {},
   "source": [
    "# XGBoost"
   ]
  },
  {
   "cell_type": "code",
   "execution_count": 115,
   "metadata": {},
   "outputs": [
    {
     "name": "stdout",
     "output_type": "stream",
     "text": [
      "Accuracy of XGBClassifier(base_score=0.5, booster='gbtree', colsample_bylevel=1,\n",
      "              colsample_bynode=1, colsample_bytree=1, gamma=0,\n",
      "              learning_rate=0.1, max_delta_step=0, max_depth=3,\n",
      "              min_child_weight=1, missing=None, n_estimators=100, n_jobs=1,\n",
      "              nthread=None, objective='binary:logistic', random_state=0,\n",
      "              reg_alpha=0, reg_lambda=1, scale_pos_weight=1, seed=None,\n",
      "              silent=None, subsample=1, verbosity=1) is 0.8946063236205828\n"
     ]
    }
   ],
   "source": [
    "# Extreme Gradient Boost\n",
    "model_xg = xgboost.XGBClassifier()\n",
    "model_xg.fit(X_train, y_train)\n",
    "y_pred = model_xg.predict(X_test)\n",
    "acc = accuracy_score(y_test, y_pred)\n",
    "print(\"Accuracy of %s is %s\" % (model_xg, acc))"
   ]
  },
  {
   "cell_type": "code",
   "execution_count": 52,
   "metadata": {},
   "outputs": [
    {
     "data": {
      "text/plain": [
       "1.0000000223517418"
      ]
     },
     "execution_count": 52,
     "metadata": {},
     "output_type": "execute_result"
    }
   ],
   "source": [
    "sum(model_xg.feature_importances_.tolist())"
   ]
  },
  {
   "cell_type": "code",
   "execution_count": 116,
   "metadata": {},
   "outputs": [
    {
     "data": {
      "text/plain": [
       "(array([0.06017964, 0.01340315, 0.06486427, 0.86155295], dtype=float32),\n",
       " ['team_unit_power',\n",
       "  'class_powers',\n",
       "  'players_eliminated',\n",
       "  'total_damage_to_players'])"
      ]
     },
     "execution_count": 116,
     "metadata": {},
     "output_type": "execute_result"
    }
   ],
   "source": [
    "model_xg.feature_importances_, feature_columns"
   ]
  },
  {
   "cell_type": "code",
   "execution_count": 117,
   "metadata": {},
   "outputs": [
    {
     "data": {
      "text/plain": [
       "<matplotlib.axes._subplots.AxesSubplot at 0x1c3d26b080>"
      ]
     },
     "execution_count": 117,
     "metadata": {},
     "output_type": "execute_result"
    },
    {
     "data": {
      "image/png": "[encoded data removed]",
      "text/plain": [
       "<Figure size 432x288 with 1 Axes>"
      ]
     },
     "metadata": {},
     "output_type": "display_data"
    }
   ],
   "source": [
    "sns.barplot(x='players_eliminated', y='game_won', data=game_data)"
   ]
  },
  {
   "cell_type": "code",
   "execution_count": 118,
   "metadata": {},
   "outputs": [
    {
     "data": {
      "text/plain": [
       "<matplotlib.axes._subplots.AxesSubplot at 0x1c2803ac88>"
      ]
     },
     "execution_count": 118,
     "metadata": {},
     "output_type": "execute_result"
    },
    {
     "data": {
      "image/png": "[encoded data removed]",
      "text/plain": [
       "<Figure size 432x288 with 1 Axes>"
      ]
     },
     "metadata": {},
     "output_type": "display_data"
    }
   ],
   "source": [
    "sns.barplot(x='total_damage_to_players', y='game_won', data=game_data)"
   ]
  },
  {
   "cell_type": "code",
   "execution_count": 119,
   "metadata": {},
   "outputs": [
    {
     "data": {
      "text/plain": [
       "<matplotlib.axes._subplots.AxesSubplot at 0x1c2ad2c0f0>"
      ]
     },
     "execution_count": 119,
     "metadata": {},
     "output_type": "execute_result"
    },
    {
     "data": {
      "image/png": "[encoded data removed]",
      "text/plain": [
       "<Figure size 432x288 with 1 Axes>"
      ]
     },
     "metadata": {},
     "output_type": "display_data"
    }
   ],
   "source": [
    "sns.distplot(game_data['level'], hist=True, kde=True, label = 'Level')"
   ]
  },
  {
   "cell_type": "code",
   "execution_count": 120,
   "metadata": {},
   "outputs": [
    {
     "data": {
      "text/plain": [
       "<matplotlib.axes._subplots.AxesSubplot at 0x1c2af13ac8>"
      ]
     },
     "execution_count": 120,
     "metadata": {},
     "output_type": "execute_result"
    },
    {
     "data": {
      "image/png": "[encoded data removed]",
      "text/plain": [
       "<Figure size 432x288 with 1 Axes>"
      ]
     },
     "metadata": {},
     "output_type": "display_data"
    }
   ],
   "source": [
    "sns.distplot(game_data['players_eliminated'], hist=False, kde=True, label = 'players eliminated')"
   ]
  },
  {
   "cell_type": "code",
   "execution_count": 124,
   "metadata": {},
   "outputs": [
    {
     "data": {
      "text/plain": [
       "<matplotlib.axes._subplots.AxesSubplot at 0x1c2b2edc88>"
      ]
     },
     "execution_count": 124,
     "metadata": {},
     "output_type": "execute_result"
    },
    {
     "data": {
      "image/png": "[encoded data removed]",
      "text/plain": [
       "<Figure size 432x288 with 1 Axes>"
      ]
     },
     "metadata": {},
     "output_type": "display_data"
    }
   ],
   "source": [
    "sns.distplot(game_data['team_unit_power'], hist=False, kde=True, label = 'Team Unit Power')"
   ]
  },
  {
   "cell_type": "code",
   "execution_count": 125,
   "metadata": {},
   "outputs": [
    {
     "data": {
      "text/plain": [
       "<matplotlib.axes._subplots.AxesSubplot at 0x1c2b3fe6d8>"
      ]
     },
     "execution_count": 125,
     "metadata": {},
     "output_type": "execute_result"
    },
    {
     "data": {
      "image/png": "[encoded data removed]",
      "text/plain": [
       "<Figure size 432x288 with 1 Axes>"
      ]
     },
     "metadata": {},
     "output_type": "display_data"
    }
   ],
   "source": [
    "sns.distplot(game_data['class_powers'], hist=False, kde=True, label = 'Class Powers')"
   ]
  },
  {
   "cell_type": "code",
   "execution_count": 123,
   "metadata": {},
   "outputs": [
    {
     "data": {
      "text/plain": [
       "Text(0.5, 1.0, 'Class x Team Unit')"
      ]
     },
     "execution_count": 123,
     "metadata": {},
     "output_type": "execute_result"
    },
    {
     "data": {
      "image/png": "[encoded data removed]",
      "text/plain": [
       "<Figure size 432x288 with 1 Axes>"
      ]
     },
     "metadata": {},
     "output_type": "display_data"
    }
   ],
   "source": [
    "plt.scatter(x=game_data['team_unit_power'], y=game_data['class_powers'])\n",
    "plt.xlabel(\"Team Unit Power\")\n",
    "plt.ylabel(\"Class Power\")\n",
    "plt.title(\"Class x Team Unit\")"
   ]
  },
  {
   "cell_type": "code",
   "execution_count": 54,
   "metadata": {},
   "outputs": [
    {
     "data": {
      "text/plain": [
       "<matplotlib.axes._subplots.AxesSubplot at 0x1c28033a58>"
      ]
     },
     "execution_count": 54,
     "metadata": {},
     "output_type": "execute_result"
    },
    {
     "data": {
      "image/png": "[encoded data removed]",
      "text/plain": [
       "<Figure size 432x288 with 1 Axes>"
      ]
     },
     "metadata": {},
     "output_type": "display_data"
    }
   ],
   "source": [
    "sns.distplot(model_xg.feature_importances_)"
   ]
  },
  {
   "cell_type": "code",
   "execution_count": null,
   "metadata": {},
   "outputs": [],
   "source": []
  }
 ],
 "metadata": {
  "kernelspec": {
   "display_name": "Python 3",
   "language": "python",
   "name": "python3"
  },
  "language_info": {
   "codemirror_mode": {
    "name": "ipython",
    "version": 3
   },
   "file_extension": ".py",
   "mimetype": "text/x-python",
   "name": "python",
   "nbconvert_exporter": "python",
   "pygments_lexer": "ipython3",
   "version": "3.7.3"
  }
 },
 "nbformat": 4,
 "nbformat_minor": 2
}
