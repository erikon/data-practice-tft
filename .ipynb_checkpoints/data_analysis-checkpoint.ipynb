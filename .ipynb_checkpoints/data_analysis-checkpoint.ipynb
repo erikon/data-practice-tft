{
 "cells": [
  {
   "cell_type": "code",
   "execution_count": 1,
   "metadata": {},
   "outputs": [],
   "source": [
    "import time, ast, json, requests\n",
    "# import xgboost\n",
    "import matplotlib.pyplot as plt\n",
    "import numpy as np\n",
    "import pandas as pd\n",
    "import seaborn as sns\n",
    "import statsmodels.api as sm\n",
    "import datetime\n",
    "from sklearn.linear_model import LogisticRegression\n",
    "from sklearn.feature_selection import RFE\n",
    "from sklearn.model_selection import train_test_split\n",
    "from sklearn.ensemble import RandomForestClassifier\n",
    "from sklearn.metrics import accuracy_score, confusion_matrix, classification_report\n",
    "from sklearn import svm, tree\n",
    "\n",
    "\n",
    "from scipy import stats\n",
    "\n",
    "sns.set(color_codes=True)"
   ]
  },
  {
   "cell_type": "code",
   "execution_count": 2,
   "metadata": {},
   "outputs": [],
   "source": [
    "import warnings\n",
    "warnings.filterwarnings('ignore')"
   ]
  },
  {
   "cell_type": "markdown",
   "metadata": {},
   "source": [
    "# Load TFT Game Data"
   ]
  },
  {
   "cell_type": "code",
   "execution_count": 3,
   "metadata": {},
   "outputs": [],
   "source": [
    "game_data = pd.read_csv('./tft_csv/complete_match_data.csv')\n",
    "match_ids = pd.read_csv('./tft_csv/match_ids.csv')\n",
    "player_data = pd.read_csv('./tft_csv/player_data.csv')"
   ]
  },
  {
   "cell_type": "code",
   "execution_count": 4,
   "metadata": {},
   "outputs": [],
   "source": [
    "game_data.drop('Unnamed: 0', axis=1, inplace=True)\n",
    "match_ids.drop('Unnamed: 0', axis=1, inplace=True)\n",
    "player_data.drop('Unnamed: 0', axis=1, inplace=True)"
   ]
  },
  {
   "cell_type": "markdown",
   "metadata": {},
   "source": [
    "# Load Extra TFT Data"
   ]
  },
  {
   "cell_type": "code",
   "execution_count": 5,
   "metadata": {},
   "outputs": [],
   "source": [
    "tft_items = None\n",
    "tft_traits = None\n",
    "tft_champs = None\n",
    "with open('./tft_extra_data/items.json') as json_file:\n",
    "    tft_items = json.load(json_file)\n",
    "\n",
    "with open('./tft_extra_data/traits.json') as json_file:\n",
    "    tft_traits = json.load(json_file)\n",
    "\n",
    "with open('./tft_extra_data/champions.json') as json_file:\n",
    "    tft_champs = json.load(json_file)\n",
    "    \n",
    "temp_items = {}\n",
    "for item in tft_items:\n",
    "    temp_items[item['id']] = {'name': item['name'],\n",
    "                              'tier': item['tier']\n",
    "                             }\n",
    "tft_items = temp_items\n",
    "\n",
    "temp_traits = {}\n",
    "for trait in tft_traits:\n",
    "    temp_traits[trait['name']] = {'tier': trait['tier']}\n",
    "    \n",
    "tft_traits = temp_traits\n",
    "tft_traits['Set2_Glacial'] = {'tier': 'B'}\n",
    "tft_traits['Set2_Assassin'] = {'tier': 'A'}\n",
    "tft_traits['Set2_Blademaster'] = {'tier': 'S'}\n",
    "tft_traits['Set2_Ranger'] = {'tier': 'A'}\n",
    "tft_traits['Metal'] = {'tier': 'A'}\n",
    "tft_traits['Wind'] = {'tier': 'B'}\n",
    "tft_traits['Soulbound'] = {'tier': 'A'}\n"
   ]
  },
  {
   "cell_type": "markdown",
   "metadata": {},
   "source": [
    "# Manipulate Data Columns into Features"
   ]
  },
  {
   "cell_type": "code",
   "execution_count": 6,
   "metadata": {},
   "outputs": [],
   "source": [
    "# Group Top/Bottom 4 Placements\n",
    "game_data['game_won'] = [1 if p <= 4 else 0 for p in game_data['placement']]"
   ]
  },
  {
   "cell_type": "markdown",
   "metadata": {},
   "source": [
    "### Champ + Tier Evaluation Attempt: #1"
   ]
  },
  {
   "cell_type": "code",
   "execution_count": 8,
   "metadata": {},
   "outputs": [],
   "source": [
    "# Champion Evaluation\n",
    "unit_powers = []\n",
    "for u in game_data['units']:\n",
    "    unit_lst = ast.literal_eval(u)\n",
    "    unit_power = 0\n",
    "    for unit in unit_lst:\n",
    "        name = unit[0]\n",
    "        rarity = unit[1]\n",
    "        char_tier = unit[2]\n",
    "        items = unit[3]\n",
    "        \n",
    "        item_power = 0\n",
    "        for item in items:\n",
    "            if item not in tft_items:\n",
    "                continue\n",
    "            item_data = tft_items[item]\n",
    "            # print(item_data['name'], item_data['tier'])\n",
    "            \n",
    "            if item_data['tier'] == 'S':\n",
    "                item_power += 3\n",
    "            elif item_data['tier'] == 'A':\n",
    "                item_power += 2\n",
    "            elif item_data['tier'] == 'B':\n",
    "                item_power += 1\n",
    "        # print(unit)\n",
    "        \n",
    "        unit_power += (1 + rarity) * char_tier + item_power\n",
    "    unit_powers.append(unit_power)\n",
    "\n",
    "game_data['team_unit_power'] = unit_powers"
   ]
  },
  {
   "cell_type": "code",
   "execution_count": 9,
   "metadata": {},
   "outputs": [],
   "source": [
    "# Class Evaluation\n",
    "class_powers = []\n",
    "for t in game_data['traits']:\n",
    "    traits_lst = ast.literal_eval(t)\n",
    "    class_bonus = 0\n",
    "\n",
    "    for trait in traits_lst:\n",
    "        #print(trait)\n",
    "        trait_name = trait[0]\n",
    "        trait_active_tier = trait[1]\n",
    "        trait_power = 0\n",
    "        \n",
    "        if tft_traits[trait_name]['tier'] == 'S':\n",
    "            trait_power += 3\n",
    "        elif tft_traits[trait_name]['tier'] == 'A':\n",
    "            trait_power += 2\n",
    "        elif tft_traits[trait_name]['tier'] == 'B':\n",
    "            trait_power += 1\n",
    "        elif tft_traits[trait_name]['tier'] == 'C':\n",
    "            trait_power += 0.5\n",
    "        \n",
    "        if trait_active_tier == 1:\n",
    "            active_tier_multiplier = 0.4\n",
    "        else:\n",
    "            active_tier_multiplier = trait_active_tier/10\n",
    "        \n",
    "        class_bonus += trait_power * (1 + active_tier_multiplier)\n",
    "        \n",
    "    class_powers.append(class_bonus)\n",
    "game_data['class_powers'] = class_powers"
   ]
  },
  {
   "cell_type": "markdown",
   "metadata": {},
   "source": [
    "# Split Data for Test/Train"
   ]
  },
  {
   "cell_type": "code",
   "execution_count": 10,
   "metadata": {},
   "outputs": [],
   "source": [
    "# feature_columns = ['gold_left', 'level','players_eliminated', 'total_damage_to_players']\n",
    "feature_columns = ['team_unit_power',\n",
    "                   'class_powers',\n",
    "                   'players_eliminated',\n",
    "                   'total_damage_to_players',\n",
    "                   'gold_left',\n",
    "                   'level'\n",
    "                  ]\n",
    "X = game_data[feature_columns]\n",
    "y = game_data['game_won']\n",
    "X_train, X_test, y_train, y_test = train_test_split(X,y,test_size=0.3, shuffle=True)"
   ]
  },
  {
   "cell_type": "markdown",
   "metadata": {},
   "source": [
    "### Logistic Regression"
   ]
  },
  {
   "cell_type": "code",
   "execution_count": 11,
   "metadata": {},
   "outputs": [
    {
     "name": "stdout",
     "output_type": "stream",
     "text": [
      "[ True  True  True  True  True  True]\n",
      "[1 1 1 1 1 1]\n"
     ]
    }
   ],
   "source": [
    "# Feature Elimination\n",
    "logreg = LogisticRegression()\n",
    "rfe = RFE(logreg, 20)\n",
    "rfe = rfe.fit(X_train, y_train)\n",
    "print(rfe.support_)\n",
    "print(rfe.ranking_)"
   ]
  },
  {
   "cell_type": "code",
   "execution_count": 12,
   "metadata": {},
   "outputs": [
    {
     "name": "stdout",
     "output_type": "stream",
     "text": [
      "Optimization terminated successfully.\n",
      "         Current function value: 0.256027\n",
      "         Iterations 8\n",
      "                             Results: Logit\n",
      "========================================================================\n",
      "Model:                  Logit              Pseudo R-squared:   0.631    \n",
      "Dependent Variable:     game_won           AIC:                8270.4171\n",
      "Date:                   2020-01-03 16:37   BIC:                8316.5470\n",
      "No. Observations:       16128              Log-Likelihood:     -4129.2  \n",
      "Df Model:               5                  LL-Null:            -11179.  \n",
      "Df Residuals:           16122              LLR p-value:        0.0000   \n",
      "Converged:              1.0000             Scale:              1.0000   \n",
      "No. Iterations:         8.0000                                          \n",
      "------------------------------------------------------------------------\n",
      "                         Coef.  Std.Err.    z     P>|z|   [0.025  0.975]\n",
      "------------------------------------------------------------------------\n",
      "team_unit_power          0.0449   0.0042  10.6324 0.0000  0.0367  0.0532\n",
      "class_powers            -0.0072   0.0075  -0.9546 0.3398 -0.0219  0.0076\n",
      "players_eliminated       0.7869   0.0473  16.6453 0.0000  0.6942  0.8795\n",
      "total_damage_to_players  0.0799   0.0016  48.4282 0.0000  0.0766  0.0831\n",
      "gold_left               -0.0197   0.0031  -6.2959 0.0000 -0.0258 -0.0136\n",
      "level                   -1.3179   0.0328 -40.2218 0.0000 -1.3821 -1.2537\n",
      "========================================================================\n",
      "\n"
     ]
    }
   ],
   "source": [
    "logit_model=sm.Logit(y,X)\n",
    "result=logit_model.fit()\n",
    "print(result.summary2())"
   ]
  },
  {
   "cell_type": "code",
   "execution_count": 13,
   "metadata": {},
   "outputs": [
    {
     "name": "stdout",
     "output_type": "stream",
     "text": [
      "Accuracy of logistic regression classifier on test set: 0.90\n"
     ]
    }
   ],
   "source": [
    "logreg = LogisticRegression()\n",
    "logreg.fit(X_train, y_train)\n",
    "y_pred = logreg.predict(X_test)\n",
    "print('Accuracy of logistic regression classifier on test set: {:.2f}'.format(logreg.score(X_test, y_test)))\n"
   ]
  },
  {
   "cell_type": "code",
   "execution_count": 14,
   "metadata": {},
   "outputs": [
    {
     "name": "stdout",
     "output_type": "stream",
     "text": [
      "              precision    recall  f1-score   support\n",
      "\n",
      "           0       0.89      0.90      0.90      2388\n",
      "           1       0.90      0.89      0.90      2451\n",
      "\n",
      "    accuracy                           0.90      4839\n",
      "   macro avg       0.90      0.90      0.90      4839\n",
      "weighted avg       0.90      0.90      0.90      4839\n",
      "\n"
     ]
    }
   ],
   "source": [
    "print(classification_report(y_test, y_pred))"
   ]
  },
  {
   "cell_type": "markdown",
   "metadata": {},
   "source": [
    "### Decision Tree"
   ]
  },
  {
   "cell_type": "code",
   "execution_count": 15,
   "metadata": {},
   "outputs": [
    {
     "name": "stdout",
     "output_type": "stream",
     "text": [
      "Accuracy of DecisionTreeClassifier(class_weight=None, criterion='gini', max_depth=None,\n",
      "                       max_features=None, max_leaf_nodes=None,\n",
      "                       min_impurity_decrease=0.0, min_impurity_split=None,\n",
      "                       min_samples_leaf=1, min_samples_split=2,\n",
      "                       min_weight_fraction_leaf=0.0, presort=False,\n",
      "                       random_state=None, splitter='best') is 0.9222979954536061\n"
     ]
    }
   ],
   "source": [
    "model_dt = tree.DecisionTreeClassifier()\n",
    "model_dt.fit(X_train, y_train)\n",
    "y_pred= model_dt.predict(X_test)\n",
    "\n",
    "acc = accuracy_score(y_test, y_pred)\n",
    "print(\"Accuracy of %s is %s\"%(model_dt, acc))\n"
   ]
  },
  {
   "cell_type": "code",
   "execution_count": null,
   "metadata": {},
   "outputs": [],
   "source": [
    "model_dt, feature_columns"
   ]
  },
  {
   "cell_type": "markdown",
   "metadata": {},
   "source": [
    "### Random Forest"
   ]
  },
  {
   "cell_type": "code",
   "execution_count": 16,
   "metadata": {},
   "outputs": [
    {
     "name": "stdout",
     "output_type": "stream",
     "text": [
      "Accuracy of RandomForestClassifier(bootstrap=True, class_weight=None, criterion='gini',\n",
      "                       max_depth=None, max_features='auto', max_leaf_nodes=None,\n",
      "                       min_impurity_decrease=0.0, min_impurity_split=None,\n",
      "                       min_samples_leaf=1, min_samples_split=2,\n",
      "                       min_weight_fraction_leaf=0.0, n_estimators=10,\n",
      "                       n_jobs=None, oob_score=False, random_state=None,\n",
      "                       verbose=0, warm_start=False) is 0.9351105600330647\n"
     ]
    }
   ],
   "source": [
    "model_rfc = RandomForestClassifier()\n",
    "model_rfc.fit(X_train, y_train)\n",
    "y_pred= model_rfc.predict(X_test)\n",
    "\n",
    "acc = accuracy_score(y_test, y_pred)\n",
    "print(\"Accuracy of %s is %s\"%(model_rfc, acc))"
   ]
  },
  {
   "cell_type": "code",
   "execution_count": null,
   "metadata": {},
   "outputs": [],
   "source": [
    "model_rfc, feature_columns"
   ]
  },
  {
   "cell_type": "markdown",
   "metadata": {},
   "source": [
    "### SVM"
   ]
  },
  {
   "cell_type": "code",
   "execution_count": 17,
   "metadata": {},
   "outputs": [
    {
     "name": "stdout",
     "output_type": "stream",
     "text": [
      "Accuracy of SVC(C=1.0, cache_size=200, class_weight=None, coef0=0.0,\n",
      "    decision_function_shape='ovr', degree=3, gamma='auto_deprecated',\n",
      "    kernel='linear', max_iter=-1, probability=False, random_state=None,\n",
      "    shrinking=True, tol=0.001, verbose=False) is 0.8979127918991527\n"
     ]
    }
   ],
   "source": [
    "# SVM\n",
    "model_svm = svm.SVC(kernel='linear') # linear, rbf, sigmoid, polynomial\n",
    "model_svm.fit(X_train, y_train)\n",
    "y_pred= model_svm.predict(X_test)\n",
    "acc = accuracy_score(y_test, y_pred)\n",
    "print(\"Accuracy of %s is %s\"%(model_svm, acc))\n"
   ]
  },
  {
   "cell_type": "code",
   "execution_count": null,
   "metadata": {},
   "outputs": [],
   "source": [
    "model_svm.coef_, feature_columns"
   ]
  },
  {
   "cell_type": "code",
   "execution_count": null,
   "metadata": {},
   "outputs": [],
   "source": [
    "sns.barplot(x='players_eliminated', y='game_won', data=game_data)"
   ]
  },
  {
   "cell_type": "code",
   "execution_count": 22,
   "metadata": {
    "collapsed": true
   },
   "outputs": [
    {
     "data": {
      "text/plain": [
       "<matplotlib.axes._subplots.AxesSubplot at 0x1c1b0c04a8>"
      ]
     },
     "execution_count": 22,
     "metadata": {},
     "output_type": "execute_result"
    },
    {
     "data": {
      "image/png": "[encoded data removed]",
      "text/plain": [
       "<Figure size 432x288 with 1 Axes>"
      ]
     },
     "metadata": {
      "needs_background": "light"
     },
     "output_type": "display_data"
    }
   ],
   "source": [
    "sns.barplot(x='total_damage_to_players', y='game_won', data=game_data)"
   ]
  },
  {
   "cell_type": "code",
   "execution_count": null,
   "metadata": {},
   "outputs": [],
   "source": [
    "sns.distplot(game_data['level'], hist=True, kde=True, label = 'Level')"
   ]
  },
  {
   "cell_type": "code",
   "execution_count": null,
   "metadata": {},
   "outputs": [],
   "source": [
    "sns.distplot(game_data['players_eliminated'], hist=False, kde=True, label = 'players eliminated')"
   ]
  },
  {
   "cell_type": "code",
   "execution_count": 24,
   "metadata": {},
   "outputs": [
    {
     "data": {
      "text/plain": [
       "<matplotlib.axes._subplots.AxesSubplot at 0x1a1620c160>"
      ]
     },
     "execution_count": 24,
     "metadata": {},
     "output_type": "execute_result"
    },
    {
     "data": {
      "image/png": "[encoded data removed]",
      "text/plain": [
       "<Figure size 432x288 with 1 Axes>"
      ]
     },
     "metadata": {
      "needs_background": "light"
     },
     "output_type": "display_data"
    }
   ],
   "source": [
    "sns.distplot(game_data['team_unit_power'], hist=False, kde=True, label = 'players eliminated')"
   ]
  },
  {
   "cell_type": "code",
   "execution_count": 25,
   "metadata": {},
   "outputs": [
    {
     "data": {
      "text/plain": [
       "<matplotlib.axes._subplots.AxesSubplot at 0x1c1bca5be0>"
      ]
     },
     "execution_count": 25,
     "metadata": {},
     "output_type": "execute_result"
    },
    {
     "data": {
      "image/png": "[encoded data removed]",
      "text/plain": [
       "<Figure size 432x288 with 1 Axes>"
      ]
     },
     "metadata": {
      "needs_background": "light"
     },
     "output_type": "display_data"
    }
   ],
   "source": [
    "sns.distplot(game_data['class_powers'], hist=False, kde=True, label = 'players eliminated')"
   ]
  },
  {
   "cell_type": "code",
   "execution_count": 30,
   "metadata": {},
   "outputs": [
    {
     "data": {
      "text/plain": [
       "Text(0.5, 1.0, 'Class x Team Unit')"
      ]
     },
     "execution_count": 30,
     "metadata": {},
     "output_type": "execute_result"
    },
    {
     "data": {
      "image/png": "[encoded data removed]",
      "text/plain": [
       "<Figure size 432x288 with 1 Axes>"
      ]
     },
     "metadata": {
      "needs_background": "light"
     },
     "output_type": "display_data"
    }
   ],
   "source": [
    "plt.scatter(x=game_data['team_unit_power'], y=game_data['class_powers'])\n",
    "plt.xlabel(\"Team Unit Power\")\n",
    "plt.ylabel(\"Class Power\")\n",
    "plt.title(\"Class x Team Unit\")"
   ]
  },
  {
   "cell_type": "code",
   "execution_count": null,
   "metadata": {},
   "outputs": [],
   "source": [
    "plt.plot(x=game_data['team_unit_power'], y=game_data['class_powers'])"
   ]
  }
 ],
 "metadata": {
  "kernelspec": {
   "display_name": "Python 3",
   "language": "python",
   "name": "python3"
  },
  "language_info": {
   "codemirror_mode": {
    "name": "ipython",
    "version": 3
   },
   "file_extension": ".py",
   "mimetype": "text/x-python",
   "name": "python",
   "nbconvert_exporter": "python",
   "pygments_lexer": "ipython3",
   "version": "3.7.3"
  }
 },
 "nbformat": 4,
 "nbformat_minor": 2
}
